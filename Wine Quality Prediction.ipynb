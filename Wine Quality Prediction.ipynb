{
 "cells": [
  {
   "cell_type": "markdown",
   "id": "3e6560db",
   "metadata": {},
   "source": [
    "<h1 style=\"font-size:40px; text-align:center;\">Wine Quality Prediction</h1>\n",
    "<h2 style=\"font-size:30px; text-align:center;\">CS549 Machine Learning - Joann Chen</h2>\n",
    "<h3 style=\"font-size:20px; text-align:center;\">Alisa Sriphet, Stella Wong, and Kaelin Facun</h3>"
   ]
  },
  {
   "cell_type": "markdown",
   "id": "4374497b",
   "metadata": {},
   "source": [
    "Introduction:"
   ]
  },
  {
   "cell_type": "markdown",
   "id": "f87fe4bf",
   "metadata": {},
   "source": [
    "**Cells 3 and 4 are to import the dataset from UCI database**"
   ]
  },
  {
   "cell_type": "code",
   "execution_count": 3,
   "id": "e3e2f73c",
   "metadata": {
    "scrolled": true
   },
   "outputs": [
    {
     "name": "stdout",
     "output_type": "stream",
     "text": [
      "Collecting ucimlrepo\n",
      "  Downloading ucimlrepo-0.0.7-py3-none-any.whl.metadata (5.5 kB)\n",
      "Requirement already satisfied: pandas>=1.0.0 in c:\\users\\kaelin\\anaconda3\\lib\\site-packages (from ucimlrepo) (2.1.4)\n",
      "Requirement already satisfied: certifi>=2020.12.5 in c:\\users\\kaelin\\anaconda3\\lib\\site-packages (from ucimlrepo) (2024.2.2)\n",
      "Requirement already satisfied: numpy<2,>=1.23.2 in c:\\users\\kaelin\\anaconda3\\lib\\site-packages (from pandas>=1.0.0->ucimlrepo) (1.26.4)\n",
      "Requirement already satisfied: python-dateutil>=2.8.2 in c:\\users\\kaelin\\anaconda3\\lib\\site-packages (from pandas>=1.0.0->ucimlrepo) (2.8.2)\n",
      "Requirement already satisfied: pytz>=2020.1 in c:\\users\\kaelin\\anaconda3\\lib\\site-packages (from pandas>=1.0.0->ucimlrepo) (2023.3.post1)\n",
      "Requirement already satisfied: tzdata>=2022.1 in c:\\users\\kaelin\\anaconda3\\lib\\site-packages (from pandas>=1.0.0->ucimlrepo) (2023.3)\n",
      "Requirement already satisfied: six>=1.5 in c:\\users\\kaelin\\anaconda3\\lib\\site-packages (from python-dateutil>=2.8.2->pandas>=1.0.0->ucimlrepo) (1.16.0)\n",
      "Downloading ucimlrepo-0.0.7-py3-none-any.whl (8.0 kB)\n",
      "Installing collected packages: ucimlrepo\n",
      "Successfully installed ucimlrepo-0.0.7\n",
      "Note: you may need to restart the kernel to use updated packages.\n"
     ]
    }
   ],
   "source": [
    "pip install ucimlrepo"
   ]
  },
  {
   "cell_type": "code",
   "execution_count": 4,
   "id": "52f7cb08",
   "metadata": {
    "scrolled": true
   },
   "outputs": [
    {
     "name": "stdout",
     "output_type": "stream",
     "text": [
      "{'uci_id': 186, 'name': 'Wine Quality', 'repository_url': 'https://archive.ics.uci.edu/dataset/186/wine+quality', 'data_url': 'https://archive.ics.uci.edu/static/public/186/data.csv', 'abstract': 'Two datasets are included, related to red and white vinho verde wine samples, from the north of Portugal. The goal is to model wine quality based on physicochemical tests (see [Cortez et al., 2009], http://www3.dsi.uminho.pt/pcortez/wine/).', 'area': 'Business', 'tasks': ['Classification', 'Regression'], 'characteristics': ['Multivariate'], 'num_instances': 4898, 'num_features': 11, 'feature_types': ['Real'], 'demographics': [], 'target_col': ['quality'], 'index_col': None, 'has_missing_values': 'no', 'missing_values_symbol': None, 'year_of_dataset_creation': 2009, 'last_updated': 'Wed Nov 15 2023', 'dataset_doi': '10.24432/C56S3T', 'creators': ['Paulo Cortez', 'A. Cerdeira', 'F. Almeida', 'T. Matos', 'J. Reis'], 'intro_paper': {'ID': 252, 'type': 'NATIVE', 'title': 'Modeling wine preferences by data mining from physicochemical properties', 'authors': 'P. Cortez, A. Cerdeira, Fernando Almeida, Telmo Matos, J. Reis', 'venue': 'Decision Support Systems', 'year': 2009, 'journal': None, 'DOI': None, 'URL': 'https://www.semanticscholar.org/paper/Modeling-wine-preferences-by-data-mining-from-Cortez-Cerdeira/bf15a0ccc14ac1deb5cea570c870389c16be019c', 'sha': None, 'corpus': None, 'arxiv': None, 'mag': None, 'acl': None, 'pmid': None, 'pmcid': None}, 'additional_info': {'summary': 'The two datasets are related to red and white variants of the Portuguese \"Vinho Verde\" wine. For more details, consult: http://www.vinhoverde.pt/en/ or the reference [Cortez et al., 2009].  Due to privacy and logistic issues, only physicochemical (inputs) and sensory (the output) variables are available (e.g. there is no data about grape types, wine brand, wine selling price, etc.).\\n\\nThese datasets can be viewed as classification or regression tasks.  The classes are ordered and not balanced (e.g. there are many more normal wines than excellent or poor ones). Outlier detection algorithms could be used to detect the few excellent or poor wines. Also, we are not sure if all input variables are relevant. So it could be interesting to test feature selection methods.\\n', 'purpose': None, 'funded_by': None, 'instances_represent': None, 'recommended_data_splits': None, 'sensitive_data': None, 'preprocessing_description': None, 'variable_info': 'For more information, read [Cortez et al., 2009].\\r\\nInput variables (based on physicochemical tests):\\r\\n   1 - fixed acidity\\r\\n   2 - volatile acidity\\r\\n   3 - citric acid\\r\\n   4 - residual sugar\\r\\n   5 - chlorides\\r\\n   6 - free sulfur dioxide\\r\\n   7 - total sulfur dioxide\\r\\n   8 - density\\r\\n   9 - pH\\r\\n   10 - sulphates\\r\\n   11 - alcohol\\r\\nOutput variable (based on sensory data): \\r\\n   12 - quality (score between 0 and 10)', 'citation': None}}\n",
      "                    name     role         type demographic  \\\n",
      "0          fixed_acidity  Feature   Continuous        None   \n",
      "1       volatile_acidity  Feature   Continuous        None   \n",
      "2            citric_acid  Feature   Continuous        None   \n",
      "3         residual_sugar  Feature   Continuous        None   \n",
      "4              chlorides  Feature   Continuous        None   \n",
      "5    free_sulfur_dioxide  Feature   Continuous        None   \n",
      "6   total_sulfur_dioxide  Feature   Continuous        None   \n",
      "7                density  Feature   Continuous        None   \n",
      "8                     pH  Feature   Continuous        None   \n",
      "9              sulphates  Feature   Continuous        None   \n",
      "10               alcohol  Feature   Continuous        None   \n",
      "11               quality   Target      Integer        None   \n",
      "12                 color    Other  Categorical        None   \n",
      "\n",
      "               description units missing_values  \n",
      "0                     None  None             no  \n",
      "1                     None  None             no  \n",
      "2                     None  None             no  \n",
      "3                     None  None             no  \n",
      "4                     None  None             no  \n",
      "5                     None  None             no  \n",
      "6                     None  None             no  \n",
      "7                     None  None             no  \n",
      "8                     None  None             no  \n",
      "9                     None  None             no  \n",
      "10                    None  None             no  \n",
      "11  score between 0 and 10  None             no  \n",
      "12            red or white  None             no  \n"
     ]
    }
   ],
   "source": [
    "from ucimlrepo import fetch_ucirepo \n",
    "  \n",
    "# fetch dataset \n",
    "wine_quality = fetch_ucirepo(id=186) \n",
    "  \n",
    "# data (as pandas dataframes) \n",
    "X = wine_quality.data.features \n",
    "y = wine_quality.data.targets \n",
    "  \n",
    "# metadata \n",
    "print(wine_quality.metadata) \n",
    "  \n",
    "# variable information \n",
    "print(wine_quality.variables) "
   ]
  },
  {
   "cell_type": "markdown",
   "id": "04361c2f",
   "metadata": {},
   "source": [
    "**Cleaning the data**: The cell below prints out the total missing values. Since there are two files from UCI database, \n",
    "both red and white wines, both are being checked here for null values or missing values. \n",
    "\n",
    "There shouldn't be any missing values as the UCI database reported none, as well as the two Wine Quality datasets that we used \n",
    "beforehand also reported none."
   ]
  },
  {
   "cell_type": "code",
   "execution_count": 22,
   "id": "485522a3",
   "metadata": {},
   "outputs": [
    {
     "name": "stdout",
     "output_type": "stream",
     "text": [
      "fixed acidity           0\n",
      "volatile acidity        0\n",
      "citric acid             0\n",
      "residual sugar          0\n",
      "chlorides               0\n",
      "free sulfur dioxide     0\n",
      "total sulfur dioxide    0\n",
      "density                 0\n",
      "pH                      0\n",
      "sulphates               0\n",
      "alcohol                 0\n",
      "quality                 0\n",
      "dtype: int64\n"
     ]
    }
   ],
   "source": [
    "import pandas as pd\n",
    "\n",
    "#After downloading from the database, change the pathway to the file so the file can run on your computer\n",
    "df_red = pd.read_csv(\"C:/Users/Kaelin/Downloads/winequality-red.csv\", sep = ';')\n",
    "df_white = pd.read_csv(\"C:/Users/Kaelin/Downloads/winequality-white.csv\", sep = ';')\n",
    "\n",
    "missing_red_values = df_red.isnull().sum()\n",
    "missing_white_values = df_white.isnull().sum()\n",
    "\n",
    "total_missing = missing_red_values + missing_white_values\n",
    "\n",
    "print(total_missing)"
   ]
  },
  {
   "cell_type": "markdown",
   "id": "885ed0aa",
   "metadata": {},
   "source": [
    "**Splitting the data**: The cell below splits the data into training and testing values. The training data will be used to \n",
    "train our SVM model and then the testing will be used to evaluate how well it did.\n",
    "\n",
    "From the slides, an 80/20 ratio should be used for a train/test split. **Standardization** happens through scaler from Standard Scalar. 'Scaled' is fitting the files to the scalar to calculate the standard deviation for standardization.\n",
    "\n",
    "THIS IS UNFINISHED AS WE HAVE A LOT OF FEATURES TO IMPLEMENT"
   ]
  },
  {
   "cell_type": "code",
   "execution_count": 27,
   "id": "faacba71",
   "metadata": {},
   "outputs": [
    {
     "name": "stdout",
     "output_type": "stream",
     "text": [
      "Red Wine - Training data shape: (1279, 11), Test data shape: (320, 11)\n",
      "\n",
      "Sample of the scaled red wine training data (first 5 rows):\n",
      "[[ 0.21833164  0.88971201  0.19209222  0.30972563 -0.04964208  0.69100692\n",
      "   1.04293362  1.84669643  1.09349989  0.45822284  1.12317723]\n",
      " [-1.29016623 -1.78878251  0.65275338 -0.80507963 -0.45521361  2.38847304\n",
      "   3.59387025 -3.00449133 -0.40043872 -0.40119696  1.40827174]\n",
      " [ 1.49475291 -0.78434707  1.01104539 -0.52637831  0.59927236 -0.95796016\n",
      "  -0.99174203  0.76865471 -0.07566946  0.51551749 -0.58738978]\n",
      " [ 0.27635078  0.86181102 -0.06383064 -0.66572897 -0.00908493  0.01202048\n",
      "  -0.71842739  0.08948842  0.05423824 -1.08873281 -0.96751578]\n",
      " [ 0.04427419  2.81487994 -0.62686095  2.39998549 -0.31326357 -0.47296984\n",
      "   0.2229897   1.1998714   0.37900751 -0.9741435  -0.49235828]]\n",
      "\n",
      "Sample of the scaled red wine test data (first 5 rows):\n",
      "[[-3.61859850e-01  1.64286407e-01 -9.85152962e-01 -3.86510130e-02\n",
      "   5.18158057e-01 -1.81975648e-01 -1.99566462e-02  1.75731759e-01\n",
      "  -4.65392578e-01 -1.34389336e-04 -7.77452782e-01]\n",
      " [-3.03840702e-01 -1.70525408e-01 -5.24491803e-01 -6.65728970e-01\n",
      "  -1.30756387e-01  4.97010797e-01  1.68066777e+00 -4.17191190e-01\n",
      "   5.08915214e-01 -1.03143815e+00 -8.72484283e-01]\n",
      " [ 1.37871461e+00  7.78108067e-01 -2.68568937e-01  1.00699644e-01\n",
      "   3.76208022e-01  1.09018543e-01 -3.84376165e-01  1.95450060e+00\n",
      "  -2.05577167e-01  1.83329452e+00 -4.92358280e-01]\n",
      " [ 1.02293339e-01 -3.93733284e-01  1.92092221e-01 -2.12839335e-01\n",
      "  -2.11870693e-01  1.56398950e+00  3.44462872e-01  6.60850535e-01\n",
      "   1.19192097e-01 -6.87670232e-01 -5.87389780e-01]\n",
      " [-9.42051337e-01 -3.93733284e-01 -1.66199791e-01 -5.96053642e-01\n",
      "  -2.32149269e-01  2.06016607e-01 -3.84376165e-01 -1.06401623e+00\n",
      "   5.08915214e-01 -3.43902311e-01  1.72862226e-01]]\n",
      "\n",
      "Sample of the scaled white wine training data (first 5 rows):\n",
      "[[ 5.15119310e-01 -1.07623315e+00  2.27730764e-01  3.40419470e-01\n",
      "  -8.13688488e-01  5.34064605e-01 -6.41932319e-01 -4.47040725e-01\n",
      "  -3.28261014e-01 -7.02444738e-01  1.54037099e+00]\n",
      " [-6.69188091e-01 -2.88776731e-01  8.95831948e-01  1.00207124e+00\n",
      "  -2.17211567e-01  7.73947112e-01  1.35510550e+00  9.03369755e-01\n",
      "  -6.18856911e-02  2.66074147e-01 -8.21711966e-01]\n",
      " [-1.49820327e+00  4.00247639e-01 -2.28071805e-02  1.84736700e-01\n",
      "  -4.00742927e-01 -6.05377303e-01 -1.02232048e+00 -4.60280044e-01\n",
      "   4.04271124e-01  1.93263316e-03  4.81506217e-01]\n",
      " [ 4.13963498e-02 -8.79369048e-01  1.44218115e-01 -9.24503038e-01\n",
      "  -4.46625767e-01 -1.25612289e-01 -8.79674917e-01 -3.04718052e-01\n",
      "   1.37895801e-01  4.42168490e-01  2.37152807e-01]\n",
      " [ 9.88842271e-01  2.03383533e-01 -6.07395717e-01  2.43240669e+00\n",
      "   3.33382515e-01  5.42995912e-02  8.55846045e-01  1.88307932e+00\n",
      "   7.13019704e-02  8.99798045e-02 -8.86517384e-02]]\n",
      "\n",
      "Sample of the scaled white wine test data (first 5 rows):\n",
      "[[-1.02448031  0.10495148  0.645294    0.84638847  0.10396831  1.1937415\n",
      "   0.26148955 -0.12267742 -0.66123017  0.88240435  0.3729047 ]\n",
      " [-1.73506475  2.46732075 -1.4425222  -0.72989958 -0.44662577 -0.06564166\n",
      "  -0.2377699  -1.82392984  0.07130197  0.35412132  2.19198008]\n",
      " [ 0.27825783 -0.28877673  0.47826871 -0.84666165 -0.44662577 -0.30552417\n",
      "  -0.33286694 -1.08252801  0.60405262 -0.52635039  1.37746872]\n",
      " [ 0.51511931  0.00651943  0.14421812 -0.94396338  0.37926535 -0.24555354\n",
      "   0.23771529 -0.75816471 -0.06188569 -0.17416171  0.15570167]\n",
      " [-0.43232661  0.40024764  0.06070547 -0.14608919 -0.07956305 -0.48543605\n",
      "  -1.11741751 -0.73830573  0.60405262  0.97045152  1.21456644]]\n"
     ]
    }
   ],
   "source": [
    "from sklearn.model_selection import train_test_split\n",
    "from sklearn.preprocessing import StandardScaler\n",
    "\n",
    "# Red Wine File - Quality Target\n",
    "X_red = df_red.drop('quality', axis=1)\n",
    "y_red = df_red['quality']\n",
    "\n",
    "X_red_train, X_red_test, y_red_train, y_red_test = train_test_split(X_red, y_red, test_size=0.2, random_state=42)\n",
    "print(f\"Red Wine - Training data shape: {X_red_train.shape}, Test data shape: {X_red_test.shape}\")\n",
    "\n",
    "# Standardize the features\n",
    "scaler = StandardScaler()\n",
    "\n",
    "# Scaled - Red Wine for training data\n",
    "X_red_train_scaled = scaler.fit_transform(X_red_train)\n",
    "\n",
    "# Scaled - Red Wine for testing data\n",
    "X_red_test_scaled = scaler.transform(X_red_test)\n",
    "\n",
    "print(f\"\\nSample of the scaled red wine training data (first 5 rows):\\n{X_red_train_scaled[:5]}\")\n",
    "print(f\"\\nSample of the scaled red wine test data (first 5 rows):\\n{X_red_test_scaled[:5]}\")\n",
    "\n",
    "# White Wine File - Quality Target\n",
    "X_white = df_white.drop('quality', axis=1)\n",
    "y_white = df_white['quality']\n",
    "\n",
    "X_white_train, X_white_test, y_white_train, y_white_test = train_test_split(X_white, y_white, test_size=0.2, random_state=42)\n",
    "\n",
    "print(f\"\\nSample of the scaled white wine training data (first 5 rows):\\n{X_white_train_scaled[:5]}\")\n",
    "print(f\"\\nSample of the scaled white wine test data (first 5 rows):\\n{X_white_test_scaled[:5]}\")\n",
    "\n",
    "# Scaled - White Wine for training data\n",
    "X_white_train_scaled = scaler.fit_transform(X_white_train)\n",
    "\n",
    "# Scaled - White Wine for training data\n",
    "X_white_test_scaled = scaler.transform(X_white_test)\n",
    "\n"
   ]
  },
  {
   "cell_type": "code",
   "execution_count": null,
   "id": "b781c409",
   "metadata": {},
   "outputs": [],
   "source": []
  }
 ],
 "metadata": {
  "kernelspec": {
   "display_name": "Python 3 (ipykernel)",
   "language": "python",
   "name": "python3"
  },
  "language_info": {
   "codemirror_mode": {
    "name": "ipython",
    "version": 3
   },
   "file_extension": ".py",
   "mimetype": "text/x-python",
   "name": "python",
   "nbconvert_exporter": "python",
   "pygments_lexer": "ipython3",
   "version": "3.11.7"
  }
 },
 "nbformat": 4,
 "nbformat_minor": 5
}
